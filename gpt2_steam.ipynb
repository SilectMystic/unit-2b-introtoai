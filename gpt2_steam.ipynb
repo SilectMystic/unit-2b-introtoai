{
 "cells": [
  {
   "cell_type": "code",
   "execution_count": 1,
   "metadata": {},
   "outputs": [],
   "source": [
    "import gpt_2_simple as gpt2"
   ]
  },
  {
   "cell_type": "code",
   "execution_count": 2,
   "metadata": {},
   "outputs": [],
   "source": [
    "session = gpt2.start_tf_sess()"
   ]
  },
  {
   "cell_type": "code",
   "execution_count": 3,
   "metadata": {},
   "outputs": [
    {
     "name": "stderr",
     "output_type": "stream",
     "text": [
      "2023-12-19 10:29:26.347059: I tensorflow/compiler/mlir/mlir_graph_optimization_pass.cc:388] MLIR V1 optimization pass is not enabled\n"
     ]
    },
    {
     "name": "stdout",
     "output_type": "stream",
     "text": [
      "Loading checkpoint checkpoint/steam/model-105\n",
      "INFO:tensorflow:Restoring parameters from checkpoint/steam/model-105\n",
      "Loading dataset...\n"
     ]
    },
    {
     "name": "stderr",
     "output_type": "stream",
     "text": [
      "100%|██████████| 1/1 [00:00<00:00, 1269.08it/s]"
     ]
    },
    {
     "name": "stdout",
     "output_type": "stream",
     "text": [
      "dataset has 2258 tokens\n",
      "Training...\n"
     ]
    },
    {
     "name": "stderr",
     "output_type": "stream",
     "text": [
      "\n"
     ]
    },
    {
     "name": "stdout",
     "output_type": "stream",
     "text": [
      "[106 | 17.28] loss=0.01 avg=0.01\n",
      "[107 | 33.27] loss=0.01 avg=0.01\n",
      "[108 | 47.98] loss=0.02 avg=0.01\n",
      "[109 | 61.84] loss=0.01 avg=0.01\n",
      "[110 | 76.01] loss=0.02 avg=0.01\n",
      "[111 | 90.17] loss=0.01 avg=0.01\n",
      "[112 | 104.38] loss=0.02 avg=0.01\n",
      "[113 | 118.82] loss=0.01 avg=0.01\n",
      "[114 | 133.01] loss=0.01 avg=0.01\n",
      "[115 | 147.23] loss=0.01 avg=0.01\n",
      "Saving checkpoint/steam/model-115\n"
     ]
    }
   ],
   "source": [
    "gpt2.finetune(session, 'steam.txt',model_name='124M', steps=10, run_name='steam')"
   ]
  },
  {
   "cell_type": "code",
   "execution_count": 4,
   "metadata": {},
   "outputs": [
    {
     "name": "stdout",
     "output_type": "stream",
     "text": [
      "What if i dont know what to do?\n",
      "A: You can say, for example, \"I don’t know what to do, but please help me with a problem that needs solving\" or, \"Please share a problem that needs solving, but that problem needs fixing\"\n",
      "\n",
      "Q: Please share a problem that needs solving, but that problem needs solving\n",
      "A: Please share a problem that needs solving, but that problem needs solving\n",
      "A: Please share a problem that needs solving, but that problem needs solving\n",
      "A: Please share a problem that needs solving, but that problem needs solving\n",
      "A: Please share a problem that needs solving, but that problem needs solving\n",
      "A: Please share a problem that needs solving, but that problem needs solving\n",
      "A: Please share a problem that needs solving, but that problem needs solving\n",
      "A: Please share a problem that needs solving, but that problem needs solving\n",
      "A: Please share a problem that needs solving, but that problem needs solving\n",
      "A: Please share a problem that needs solving, but that problem needs solving\n",
      "A: Please share a problem that needs solving, but that problem needs solving\n",
      "A: Please share a problem that needs solving, but that problem needs solving\n",
      "A: Please share a problem that needs solving, but that problem needs solving\n",
      "A: Please share a problem that needs solving, but that problem needs solving\n",
      "A: Please share a problem that needs solving, but that problem needs solving\n",
      "A: Please share a problem that needs solving, but that problem needs solving\n",
      "A: Please share a problem that needs solving, but that problem needs solving\n",
      "A: Please share a problem that needs solving, but that problem needs solving\n",
      "A: Please share a problem that needs solving, but that problem needs solving\n",
      "A: Please share a problem that needs solving, but that problem needs solving\n",
      "A: Please share a problem that needs solving, but that problem needs solving\n",
      "A: Please share a problem that needs solving, but that problem needs solving\n",
      "A: Please share a problem that needs solving, but that problem needs solving\n",
      "A: Please share a problem that needs solving, but that problem needs solving\n",
      "A: Please share a problem that needs solving, but that problem needs solving\n",
      "A: Please share a problem that needs solving, but that problem needs solving\n",
      "A: Please share a problem that needs solving, but that problem needs solving\n",
      "A: Please share a problem that needs solving, but that problem needs solving\n",
      "A: Please share a problem that needs solving, but that problem needs solving\n",
      "A: Please share a problem that needs solving, but that problem needs solving\n",
      "A: Please share a problem that needs solving, but that problem needs solving\n",
      "A: Please share a problem that needs solving, but that problem needs solving\n",
      "A: Please share a problem that needs solving, but that problem needs solving\n",
      "A: Please share a problem that needs solving, but that problem needs solving\n",
      "A: Please share a problem that needs solving, but that problem needs solving\n",
      "A: Please share a problem that needs solving, but that problem needs solving\n",
      "A: Please share a problem that needs solving, but that problem needs solving\n",
      "A: Please share a problem that needs solving, but that problem needs solving\n",
      "A: Please share a problem that needs solving, but that problem needs solving\n",
      "A: Please share a problem that needs solving, but that problem needs solving\n",
      "A: Please share a problem that needs solving, but that problem needs solving\n",
      "A: Please share a problem that needs solving, but that problem needs solving\n",
      "A: Please share a problem that needs solving, but that problem needs solving\n",
      "A: Please share a problem that needs solving, but that problem needs solving\n",
      "A: Please share a problem that needs solving, but that problem needs solving\n",
      "A: Please share a problem that needs solving, but that problem needs solving\n",
      "A: Please share a problem that needs solving, but that problem needs solving\n",
      "A: Please share a problem that needs solving, but that problem needs solving\n",
      "A: Please share a problem that needs solving, but that problem needs solving\n",
      "A: Please share a problem that needs solving, but that problem needs solving\n",
      "A: Please share a problem that needs solving, but that problem needs solving\n",
      "A: Please share a problem that needs solving, but that problem needs solving\n",
      "A: Please share a problem that needs solving, but that problem needs solving\n",
      "A: Please share a problem that needs solving, but that problem needs solving\n",
      "A: Please share a problem that needs solving, but that problem needs solving\n",
      "A: Please share a problem that needs solving, but that problem needs solving\n",
      "A: Please share a problem that needs solving, but that problem needs solving\n",
      "A: Please share a problem that needs solving, but that problem needs solving\n",
      "A: Please share a problem that needs solving, but that problem needs solving\n",
      "A: Please share a problem that needs solving, but that problem needs solving\n",
      "A: Please\n"
     ]
    }
   ],
   "source": [
    "gpt2.generate(session, prefix='What if i dont know what to do?')"
   ]
  },
  {
   "cell_type": "code",
   "execution_count": 13,
   "metadata": {},
   "outputs": [
    {
     "name": "stdout",
     "output_type": "stream",
     "text": [
      "Is there any higher education opportunities?\n",
      "A: We have three typical internship cycles, Fall (October-January), Spring (March-May), and Summer (July-August). Internships are usually between 80-120 hours each, you are able to work with the intern to establish a schedule that works for both of you.\n",
      "\n",
      "Q: What is the expectation around intern pay and workers’ compensation insurance?\n",
      "A: Although we are always excited for partners that are willing to compensate interns, we understand that might not always be an option; regardless, all interns are compensated, and we will use our budget where available to pay the prevailing minimum wage rate. Workers’ compensation insurance is the responsibility of the organization that pays the scholar, so if we’re paying, we’ve covered the legality there.\n",
      "\n",
      "Q: What will my potential intern be capable of doing?\n",
      "A: Our scholars are enrolled in high-quality career pathway programs, you can read about their high-level overviews here. You will also have the ability to review their resume, portfolio, and industry certifications, and interview them to decide if there is a match.\n",
      "\n",
      "Q: Explain the smaller work-based learning opportunities I can get involved with.\n",
      "A: Beyond our internship program and industry-based project initiative, organizations may choose to schedule opportunities such as “Guest Speaking”, “Workplace Tours”, “Career Fairs”, “Job Shadowing” or “Mentoring.”\n",
      "\n",
      "Higher Education (Colleges, Trade Schools Apprenticeships\n",
      "Q: Where does postsecondary education fit in the Brooklyn STEAM Center model?\n",
      "A: We believe that learning is a lifelong process, so we encourage our youth to start “Learning & Earning” when they’re with us and beyond, programs such as college, trade school, and apprenticeships are all viable options post-graduation.\n",
      "\n",
      "Q: Do you track students into a particular option?\n",
      "A: No, we believe in supporting our youth with a pathway that works best with their needs. College, trade school, and apprenticeships all have their own advantages, that we present to our youth for them to make an informed decision.\n",
      "\n",
      "Q: What’s an articulation agreement?\n",
      "A: In short, it is a formalized document between our institution and yours that illustrates the pipeline recruitment strategy to your pathway, which comes with the added benefits of having highly interested and pre-trained scholars that typically come with some form of incentive (e.g. Prior Learning Credit, Fee Waiver, etc.).\n",
      "\n",
      "Knowledge Seeker: Model Exploration & Inspiration Visits\n",
      "Q: What should I be looking at to start my journey in understanding the STEAM model?\n",
      "A: We recommend checking out our Playbook as the prime source that breaks down our model for different audiences.\n",
      "\n",
      "Q: Do you do tours?\n",
      "A: Yes, please reach out via our contact form to request a tour. \n",
      "\n",
      "Q: I want to spend a whole day with you to really learn about your model, is something like that possible?\n",
      "A: Inspiration visits are possible, for individuals and teams, which can span several hours or days. Please reach out to us so that we can collaborate on bringing that vision to life.\n",
      "\n",
      "Q: Is there a fee for these explorations?\n",
      "A: It depends, we want to share our model as much as we can, and based on our conversation about collaboration, deep engagements may have a small fee. Rest assured these funds are used to add to our scholar compensation fund for our internship program.\n",
      "\n",
      "Potential Student / Family Member\n",
      "Q: When do the Brooklyn STEAM Center programs occur?\n",
      "A: The Brooklyn STEAM Center programs occur during the regular school day, in the morning for Year 2 scholars and in the afternoon for Year 1 scholars. We operate the same days as the partner high school, offering instruction five days a week for 2.5 hours each day.\n",
      "\n",
      "Q: Wait a second, you said that students will be splitting their day, what does that mean?\n",
      "A: The Brooklyn STEAM Center is located on the Brooklyn Navy Yard, which is geographically separate from all of our partner high schools. Scholars in our program spend half of their school day with us and the other half at their home high school. We provide complimentary yellow bus shuttles during the middle of the day for scholars to travel between the two locations to ensure punctuality and avoid harsh weather.\n",
      "\n",
      "Q: How does this impact my high school graduation requirements?\n",
      "A: Our CTE Programs actually enable scholars to reduce their required 6 credits of LOTE (Language Other Than English) to 2 credits. In addition, we provide 13 elective credits (five more than required) on a scholar’s transcript that will heighten their GPA and stand out to colleges. In addition, we offer\n"
     ]
    }
   ],
   "source": [
    "gpt2.generate(session, prefix='Is there any higher education opportunities?')"
   ]
  },
  {
   "cell_type": "code",
   "execution_count": 6,
   "metadata": {},
   "outputs": [
    {
     "name": "stdout",
     "output_type": "stream",
     "text": [
      "What if i have second thoughts on going?\n",
      "A: You can reach out to us via our contact form to request a position, we can work out a potential collaboration, or both.\n",
      "\n",
      "Q: What if i don’t know what I want to do, but am psyched to get involved?\n",
      "A: Let’s meet, we’d be happy to tour you around our facility and propose some potential collaborations, there can be benefits for both our youth and your organization.\n",
      "\n",
      "Q: What is the purpose of the Advisory Council? How often does it meet?\n",
      "A: In order to execute strong programs that relate to real-world skills, we need your advice, as experts in the industry that are hiring our youth, we need to hear from you. Our Advisory Council is where we discuss these details to then iterate and revise our curriculum and opportunities. We typically meet semi-annually, in January and June, but invested members can choose to be tapped more often.\n",
      "\n",
      "Q: When do you typically place interns with business? How long are the experiences?\n",
      "A: We have three typical internship cycles, Fall (October-January), Spring (March-May), and Summer (July-August). Internships are usually between 80-120 hours each, you are able to work with the intern to establish a schedule that works for both of you.\n",
      "\n",
      "Q: What is the expectation around intern pay and workers’ compensation insurance?\n",
      "A: Although we are always excited for partners that are willing to compensate interns, we understand that might not always be an option; regardless, all interns are compensated, and we will use our budget where available to pay the prevailing minimum wage rate. Workers’ compensation insurance is the responsibility of the organization that pays the scholar, so if we’re paying, we’ve covered the legality there.\n",
      "\n",
      "Q: What will my potential intern be capable of doing?\n",
      "A: Our scholars are enrolled in high-quality career pathway programs, you can read about their high-level overviews here. You will also have the ability to review their resume, portfolio, and industry certifications, and interview them to decide if there is a match.\n",
      "\n",
      "Q: Explain the smaller work-based learning opportunities I can get involved with.\n",
      "A: Beyond our internship program and industry-based project initiative, organizations may choose to schedule opportunities such as “Guest Speaking”, “Workplace Tours”, “Career Fairs”, “Job Shadowing” or “Mentoring.”\n",
      "\n",
      "Higher Education (Colleges, Trade Schools Apprenticeships\n",
      "Q: Where does postsecondary education fit in the Brooklyn STEAM Center model?\n",
      "A: We believe that learning is a lifelong process, so we encourage our youth to start “Learning & Earning” when they’re with us and beyond, programs such as college, trade school, and apprenticeships are all viable options post-graduation.\n",
      "\n",
      "Q: Do you track students into a particular option?\n",
      "A: No, we believe in supporting our youth with a pathway that works best with their needs. College, trade school, and apprenticeships all have their own advantages, that we present to our youth for them to make an informed decision.\n",
      "\n",
      "Q: What’s an articulation agreement?\n",
      "A: In short, it is a formalized document between our institution and yours that illustrates the pipeline recruitment strategy to your pathway, which comes with the added benefits of having highly interested and pre-trained scholars that typically come with some form of incentive (e.g. Prior Learning Credit, Fee Waiver, etc.).\n",
      "\n",
      "Knowledge Seeker: Model Exploration & Inspiration Visits\n",
      "Q: What should I be looking at to start my journey in understanding the STEAM model?\n",
      "A: We recommend checking out our Playbook as the prime source that breaks down our model for different audiences.\n",
      "\n",
      "Q: Do you do tours?\n",
      "A: Yes, please reach out via our contact form to request a tour. \n",
      "\n",
      "Q: I want to spend a whole day with you to really learn about your model, is something like that possible?\n",
      "A: Inspiration visits are possible, for individuals and teams, which can span several hours or days. Please reach out to us so that we can collaborate on bringing that vision to life.\n",
      "\n",
      "Q: Is there a fee for these explorations?\n",
      "A: It depends, we want to share our model as much as we can, and based on our conversation about collaboration, deep engagements may have a small fee. Rest assured these funds are used to add to our scholar compensation fund for our internship program.\n",
      "\n",
      "Potential Student / Family Member\n",
      "Q: When do the Brooklyn STEAM Center programs occur?\n",
      "A: The Brooklyn STEAM Center programs occur during the regular school day, in the morning for Year 2 scholars and in\n"
     ]
    }
   ],
   "source": [
    "gpt2.generate(session, prefix='What if i have second thoughts on going?')"
   ]
  },
  {
   "cell_type": "code",
   "execution_count": 8,
   "metadata": {},
   "outputs": [
    {
     "name": "stdout",
     "output_type": "stream",
     "text": [
      "Will students recieve internship opportunities?\n",
      "A: Yes, we want to share our youth with a future that is different than their home state. We believe that learning is a lifelong process, so we encourage our youth to start “Learning & Earning” when they’re with us and beyond, programs such as college, trade school, and apprenticeships are all viable options post-graduation.\n",
      "\n",
      "Q: Do you track students into a particular option?\n",
      "A: No, we believe in supporting our youth with a pathway that works best with their needs. College, trade school, and apprenticeships all have their own advantages, that we present to our youth for them to make an informed decision.\n",
      "\n",
      "Q: What’s an articulation agreement?\n",
      "A: In short, it is a formalized document between our institution and yours that illustrates the pipeline recruitment strategy to your pathway, which comes with the added benefits of having highly interested and pre-trained scholars that typically come with some form of incentive (e.g. Prior Learning Credit, Fee Waiver, etc.).\n",
      "\n",
      "Knowledge Seeker: Model Exploration & Inspiration Visits\n",
      "Q: What should I be looking at to start my journey in understanding the STEAM model?\n",
      "A: We recommend checking out our Playbook as the prime source that breaks down our model for different audiences.\n",
      "\n",
      "Q: Do you do tours?\n",
      "A: Yes, please reach out via our contact form to request a tour. \n",
      "\n",
      "Q: I want to spend a whole day with you to really learn about your model, is something like that possible?\n",
      "A: Inspiration visits are possible, for individuals and teams, which can span several hours or days. Please reach out to us so that we can collaborate on bringing that vision to life.\n",
      "\n",
      "Q: Is there a fee for these explorations?\n",
      "A: It depends, we want to share our model as much as we can, and based on our conversation about collaboration, deep engagements may have a small fee. Rest assured these funds are used to add to our scholar compensation fund for our internship program.\n",
      "\n",
      "Potential Student / Family Member\n",
      "Q: When do the Brooklyn STEAM Center programs occur?\n",
      "A: The Brooklyn STEAM Center programs occur during the regular school day, in the morning for Year 2 scholars and in the afternoon for Year 1 scholars. We operate the same days as the partner high school, offering instruction five days a week for 2.5 hours each day.\n",
      "\n",
      "Q: Wait a second, you said that students will be splitting their day, what does that mean?\n",
      "A: The Brooklyn STEAM Center is located on the Brooklyn Navy Yard, which is geographically separate from all of our partner high schools. Scholars in our program spend half of their school day with us and the other half at their home high school. We provide complimentary yellow bus shuttles during the middle of the day for scholars to travel between the two locations to ensure punctuality and avoid harsh weather.\n",
      "\n",
      "Q: How does this impact my high school graduation requirements?\n",
      "A: Our CTE Programs actually enable scholars to reduce their required 6 credits of LOTE (Language Other Than English) to 2 credits. In addition, we provide 13 elective credits (five more than required) on a scholar’s transcript that will heighten their GPA and stand out to colleges. In addition, we offer a bonus credit course for our internship program. Furthermore, scholars qualify for advanced annotations on their high school diplomas for the successful completion of our program.\n",
      "\n",
      "Q: This sounds great, but how much does it cost?\n",
      "A: The Brooklyn STEAM Center is operated by the New York City Department of Education, therefore as a public school, there is NO cost for scholars to attend. We cover the cost of all equipment, supplies, and fees.\n",
      "\n",
      "Q: How can I find out more about the Brooklyn STEAM Center?\n",
      "A: A typical first step is to speak to your school’s counselor. Scholars accepted into the cohort will be able to visit the Brooklyn STEAM Center, once in Grade 9 and again in Grade 10, for specific guided tours. In addition, we offer exploratory opportunities for potential applicants to ‘try it on’ with our instructors during Grade 10. We also conduct a Brooklyn Navy Yard tour to meet our business partners in Grade 9. Private tours are available upon request.\n",
      "\n",
      "Q: Do I need to be a certain “type” of student to be accepted?\n",
      "A: No. We accept students from all eight of our partner schools in an unbiased manner. We do not screen based on grades, demographics, special education, or language proficiency status. If you have concerns about a specific scholar limitation and being able to participate please let us know, we believe that anyone can learn!\n",
      "\n",
      "Q: Can Grade 11/12 students apply to the Brooklyn STEAM Center? \n",
      "A: Usually, the answer to this\n"
     ]
    }
   ],
   "source": [
    "gpt2.generate(session, prefix='Will students recieve internship opportunities?')"
   ]
  }
 ],
 "metadata": {
  "kernelspec": {
   "display_name": "Python 3",
   "language": "python",
   "name": "python3"
  },
  "language_info": {
   "codemirror_mode": {
    "name": "ipython",
    "version": 3
   },
   "file_extension": ".py",
   "mimetype": "text/x-python",
   "name": "python",
   "nbconvert_exporter": "python",
   "pygments_lexer": "ipython3",
   "version": "3.10.8"
  },
  "orig_nbformat": 4,
  "vscode": {
   "interpreter": {
    "hash": "b0fa6594d8f4cbf19f97940f81e996739fb7646882a419484c72d19e05852a7e"
   }
  }
 },
 "nbformat": 4,
 "nbformat_minor": 2
}
